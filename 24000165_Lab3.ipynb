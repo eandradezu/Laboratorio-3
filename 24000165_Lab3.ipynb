{
 "cells": [
  {
   "cell_type": "markdown",
   "id": "706ff20c-3a21-4e0d-ab45-e1fa81d2f2a6",
   "metadata": {},
   "source": [
    "¿Cuál es el tamaño en bytes de un array de 1000\n",
    "elementos de tipo booleano?"
   ]
  },
  {
   "cell_type": "markdown",
   "id": "7cdabc02-c3b1-4faa-8653-d1eb48b8093a",
   "metadata": {},
   "source": [
    "# Parte 1"
   ]
  },
  {
   "cell_type": "code",
   "execution_count": 6,
   "id": "3b49886e-0be3-4e3e-b58d-c78e9fa7ed33",
   "metadata": {},
   "outputs": [
    {
     "data": {
      "text/plain": [
       "1000"
      ]
     },
     "execution_count": 6,
     "metadata": {},
     "output_type": "execute_result"
    }
   ],
   "source": [
    "import numpy as np\n",
    "boolean_array=np.ones(1000,dtype=bool)\n",
    "bytes=boolean_array.nbytes\n",
    "bytes"
   ]
  },
  {
   "cell_type": "markdown",
   "id": "7092f2ab-5f53-440b-bff6-8522c5e52f2f",
   "metadata": {},
   "source": [
    "Cree un array cuyos elementos sean los enteros pares en\n",
    "[1,100] y en orden decreciente. Muestre los 10 últimos\n",
    "por pantalla."
   ]
  },
  {
   "cell_type": "code",
   "execution_count": 13,
   "id": "9f6f55a8-3062-499b-b07c-3c1745918298",
   "metadata": {},
   "outputs": [
    {
     "data": {
      "text/plain": [
       "array([20, 18, 16, 14, 12, 10,  8,  6,  4,  2])"
      ]
     },
     "execution_count": 13,
     "metadata": {},
     "output_type": "execute_result"
    }
   ],
   "source": [
    "pares=np.arange(100,1,-2)\n",
    "ult10=pares[-10:]\n",
    "ult10\n"
   ]
  },
  {
   "cell_type": "markdown",
   "id": "df67a6d1-5e9b-4c4a-b3ec-add07c41a7a5",
   "metadata": {},
   "source": [
    "Dado el array\n",
    "2 4 5 6\n",
    "0 3 7 4\n",
    "8 8 5 2\n",
    "1 5 6 1\n",
    "Seleccione con una instrucción el subarray de elementos\n",
    "0 3 7 4\n",
    "Después, seleccione el subarray de elementos\n",
    "2 5\n",
    "8 5"
   ]
  },
  {
   "cell_type": "code",
   "execution_count": 21,
   "id": "0ce918ed-cb75-425d-9bd0-de5396b299d0",
   "metadata": {},
   "outputs": [
    {
     "data": {
      "text/plain": [
       "array([[2, 5],\n",
       "       [8, 5]])"
      ]
     },
     "execution_count": 21,
     "metadata": {},
     "output_type": "execute_result"
    }
   ],
   "source": [
    "arr=np.array([[2,4,5,6],\n",
    "    [0,3,7,4],\n",
    "    [8,8,5,2],\n",
    "    [1,5,6,1]])\n",
    "el2=arr[1]\n",
    "el2\n",
    "el3=arr[[0,2]][:,[0,2]]\n",
    "el3"
   ]
  },
  {
   "cell_type": "markdown",
   "id": "5f501ba0-7115-4ff3-9388-526d81720b12",
   "metadata": {},
   "source": [
    "Dados los arrays a = [1, 4, 2, 7] y b = [1, 3, 2, 9],\n",
    "obtenga la media aritmética de la diferencia (a-b)."
   ]
  },
  {
   "cell_type": "code",
   "execution_count": 25,
   "id": "626f1c60-5659-4c85-bd85-3903652995f7",
   "metadata": {},
   "outputs": [
    {
     "data": {
      "text/plain": [
       "-0.25"
      ]
     },
     "execution_count": 25,
     "metadata": {},
     "output_type": "execute_result"
    }
   ],
   "source": [
    "a=np.array([1,4,2,7])\n",
    "b=np.array([1,3,2,9])\n",
    "media=np.mean(a-b)\n",
    "media"
   ]
  },
  {
   "cell_type": "markdown",
   "id": "9ef8321c-4dc9-4f6e-841d-5c1d3510ece4",
   "metadata": {},
   "source": [
    "Tengo valores de cordenadas (x, y) en las columnas\n",
    "del array\n",
    "1.33 4.5\n",
    "30.0 10.7\n",
    "70.2 0.5\n",
    "Agregue a este array las coordenadas (37.1, -3.6).\n",
    "Muestre en pantalla las dimensiones del nuevo\n",
    "array."
   ]
  },
  {
   "cell_type": "code",
   "execution_count": 30,
   "id": "dee4892e-1443-4745-9893-14e568e204e5",
   "metadata": {},
   "outputs": [
    {
     "data": {
      "text/plain": [
       "(4, 2)"
      ]
     },
     "execution_count": 30,
     "metadata": {},
     "output_type": "execute_result"
    }
   ],
   "source": [
    "coord=np.array([[1.33, 4.5],[30.0, 10.7],[70.2,0.5]])\n",
    "coord\n",
    "nueva=np.array([37.1,-3.6])\n",
    "coord_update=np.vstack([coord,nueva])\n",
    "coord_update.shape"
   ]
  },
  {
   "cell_type": "markdown",
   "id": "b70820f2-315f-4ca1-be75-41871a9f4c0d",
   "metadata": {},
   "source": [
    "Copie el array del ejercicio anterior. Traspóngalo (.\n",
    "Agregue ahora dos nuevos pares de coordenadas: (10.8,\n",
    "3.0) y (35.8, 12.0)."
   ]
  },
  {
   "cell_type": "code",
   "execution_count": 42,
   "id": "46af759b-080e-4cc8-99a5-25ded28a882a",
   "metadata": {},
   "outputs": [
    {
     "data": {
      "text/plain": [
       "array([[ 1.33, 30.  , 70.2 , 37.1 , 10.8 , 35.8 ],\n",
       "       [ 4.5 , 10.7 ,  0.5 , -3.6 ,  3.  , 12.  ]])"
      ]
     },
     "execution_count": 42,
     "metadata": {},
     "output_type": "execute_result"
    }
   ],
   "source": [
    "tran=np.transpose(coord_update)\n",
    "tran\n",
    "nueva2=np.array([[10.8],[3.0]])\n",
    "nueva3=np.array([[35.8],[12.0]])\n",
    "tran_update=np.hstack([tran,nueva2])\n",
    "tran_update2=np.hstack([tran_update,nueva3])\n",
    "tran_update2"
   ]
  },
  {
   "cell_type": "markdown",
   "id": "a77f877a-be7d-4f9b-9747-23377717ea52",
   "metadata": {},
   "source": [
    "# Parte 2"
   ]
  },
  {
   "cell_type": "code",
   "execution_count": 174,
   "id": "30850bf4-0df7-422a-b548-7adfe156328c",
   "metadata": {},
   "outputs": [
    {
     "data": {
      "text/html": [
       "<div>\n",
       "<style scoped>\n",
       "    .dataframe tbody tr th:only-of-type {\n",
       "        vertical-align: middle;\n",
       "    }\n",
       "\n",
       "    .dataframe tbody tr th {\n",
       "        vertical-align: top;\n",
       "    }\n",
       "\n",
       "    .dataframe thead th {\n",
       "        text-align: right;\n",
       "    }\n",
       "</style>\n",
       "<table border=\"1\" class=\"dataframe\">\n",
       "  <thead>\n",
       "    <tr style=\"text-align: right;\">\n",
       "      <th></th>\n",
       "      <th>FID</th>\n",
       "      <th>OBJECTID</th>\n",
       "      <th>Texto</th>\n",
       "      <th>Poblacion</th>\n",
       "      <th>CodMun</th>\n",
       "      <th>Municipio</th>\n",
       "      <th>CodProvin</th>\n",
       "      <th>Provincia</th>\n",
       "      <th>X</th>\n",
       "      <th>Y</th>\n",
       "    </tr>\n",
       "  </thead>\n",
       "  <tbody>\n",
       "    <tr>\n",
       "      <th>0</th>\n",
       "      <td>0</td>\n",
       "      <td>1</td>\n",
       "      <td>Agüimes</td>\n",
       "      <td>29431.0</td>\n",
       "      <td>35002</td>\n",
       "      <td>Agüimes</td>\n",
       "      <td>35</td>\n",
       "      <td>Las Palmas</td>\n",
       "      <td>-15.446012</td>\n",
       "      <td>27.900542</td>\n",
       "    </tr>\n",
       "    <tr>\n",
       "      <th>1</th>\n",
       "      <td>1</td>\n",
       "      <td>2</td>\n",
       "      <td>Antigua</td>\n",
       "      <td>10458.0</td>\n",
       "      <td>35003</td>\n",
       "      <td>Antigua</td>\n",
       "      <td>35</td>\n",
       "      <td>Las Palmas</td>\n",
       "      <td>-14.013301</td>\n",
       "      <td>28.418966</td>\n",
       "    </tr>\n",
       "    <tr>\n",
       "      <th>2</th>\n",
       "      <td>2</td>\n",
       "      <td>3</td>\n",
       "      <td>Arrecife</td>\n",
       "      <td>58156.0</td>\n",
       "      <td>35004</td>\n",
       "      <td>Arrecife</td>\n",
       "      <td>35</td>\n",
       "      <td>Las Palmas</td>\n",
       "      <td>-13.551451</td>\n",
       "      <td>28.960649</td>\n",
       "    </tr>\n",
       "    <tr>\n",
       "      <th>3</th>\n",
       "      <td>3</td>\n",
       "      <td>4</td>\n",
       "      <td>Arucas</td>\n",
       "      <td>36745.0</td>\n",
       "      <td>35006</td>\n",
       "      <td>Arucas</td>\n",
       "      <td>35</td>\n",
       "      <td>Las Palmas</td>\n",
       "      <td>-15.521512</td>\n",
       "      <td>28.117496</td>\n",
       "    </tr>\n",
       "    <tr>\n",
       "      <th>4</th>\n",
       "      <td>4</td>\n",
       "      <td>5</td>\n",
       "      <td>Gáldar</td>\n",
       "      <td>24473.0</td>\n",
       "      <td>35009</td>\n",
       "      <td>Gáldar</td>\n",
       "      <td>35</td>\n",
       "      <td>Las Palmas</td>\n",
       "      <td>-15.654111</td>\n",
       "      <td>28.143873</td>\n",
       "    </tr>\n",
       "  </tbody>\n",
       "</table>\n",
       "</div>"
      ],
      "text/plain": [
       "   FID  OBJECTID     Texto  Poblacion  CodMun Municipio  CodProvin  \\\n",
       "0    0         1   Agüimes    29431.0   35002   Agüimes         35   \n",
       "1    1         2   Antigua    10458.0   35003   Antigua         35   \n",
       "2    2         3  Arrecife    58156.0   35004  Arrecife         35   \n",
       "3    3         4    Arucas    36745.0   35006    Arucas         35   \n",
       "4    4         5    Gáldar    24473.0   35009    Gáldar         35   \n",
       "\n",
       "    Provincia          X          Y  \n",
       "0  Las Palmas -15.446012  27.900542  \n",
       "1  Las Palmas -14.013301  28.418966  \n",
       "2  Las Palmas -13.551451  28.960649  \n",
       "3  Las Palmas -15.521512  28.117496  \n",
       "4  Las Palmas -15.654111  28.143873  "
      ]
     },
     "execution_count": 174,
     "metadata": {},
     "output_type": "execute_result"
    }
   ],
   "source": [
    "import numpy as np\n",
    "import pandas as pd\n",
    "import matplotlib.pyplot as plt\n",
    "\n",
    "nucleos=pd.read_csv(\"NucleosPoblacion.csv\")\n",
    "nucleos.head()"
   ]
  },
  {
   "cell_type": "markdown",
   "id": "d03f7186-ce85-4f37-a173-7b853438d9a7",
   "metadata": {},
   "source": [
    "¿Cuántos Municipios tienen más de 100000\n",
    "habitantes?."
   ]
  },
  {
   "cell_type": "code",
   "execution_count": 175,
   "id": "06c6f7bf-2093-4175-8e6a-c58f5e04e396",
   "metadata": {},
   "outputs": [
    {
     "data": {
      "text/plain": [
       "62"
      ]
     },
     "execution_count": 175,
     "metadata": {},
     "output_type": "execute_result"
    }
   ],
   "source": [
    "df=pd.DataFrame(nucleos)\n",
    "mas=df[df['Poblacion']>100000]['Municipio']\n",
    "cuenta=len(mas)\n",
    "cuenta"
   ]
  },
  {
   "cell_type": "markdown",
   "id": "4e27f610-d94d-4fff-8e60-a1b529cd7e27",
   "metadata": {},
   "source": [
    "Realice una gráfica de barras sobre la polbación de cada\n",
    "ciudad, ordenela de menor a mayo y responda:\n",
    "a. ¿Cuál es la segunda ciudad más poblada?\n",
    "b. ¿Qué posición ocupa Granada en el ranking de las ciudades más pobladas?"
   ]
  },
  {
   "cell_type": "code",
   "execution_count": 43,
   "id": "3cce24fb-4424-4bba-9bfc-2964becf474e",
   "metadata": {},
   "outputs": [
    {
     "data": {
      "text/plain": [
       "<BarContainer object of 1 artists>"
      ]
     },
     "execution_count": 43,
     "metadata": {},
     "output_type": "execute_result"
    },
    {
     "data": {
      "image/png": "[encoded data removed]",
      "text/plain": [
       "<Figure size 640x480 with 1 Axes>"
      ]
     },
     "metadata": {},
     "output_type": "display_data"
    }
   ],
   "source": [
    "plt.bar('Texto','Poblacion')"
   ]
  },
  {
   "cell_type": "code",
   "execution_count": null,
   "id": "d4a74b5c-63fc-4718-adb5-1ddbe4b60935",
   "metadata": {},
   "outputs": [],
   "source": [
    "group=df.groupby('Provincia')['Poblacion'].sum().reset_index()\n",
    "group=group.sort_values('Poblacion')\n",
    "ciudad=group['Provincia']\n",
    "pob=group['Poblacion']\n",
    "plt.bar(pob, ciudad)"
   ]
  },
  {
   "cell_type": "markdown",
   "id": "623fc500-5b01-4133-9d7c-121a0b87634d",
   "metadata": {},
   "source": [
    "¿Cuántos municipios de Extremadura tienen más de 5000\n",
    "habitantes?."
   ]
  },
  {
   "cell_type": "code",
   "execution_count": 60,
   "id": "60436f9c-da3c-4467-8425-ac74327c7b5d",
   "metadata": {},
   "outputs": [
    {
     "data": {
      "text/plain": [
       "0"
      ]
     },
     "execution_count": 60,
     "metadata": {},
     "output_type": "execute_result"
    }
   ],
   "source": [
    "df=pd.DataFrame(nucleos)\n",
    "masex=df[(df['Poblacion']>5000)&(df['Provincia']=='Extremadura')]\n",
    "cuenta2=len(masex)\n",
    "cuenta2"
   ]
  },
  {
   "cell_type": "markdown",
   "id": "cf826921-bc0a-417b-b42c-4616ec999e01",
   "metadata": {},
   "source": [
    "¿Cuál es el municipio situado más al Norte? (Usar el\n",
    "valor de la coordenada \"Y\" que representa la latitud en\n",
    "grados). Proporcione también la provincia a la que\n",
    "pertenece y su población."
   ]
  },
  {
   "cell_type": "code",
   "execution_count": 88,
   "id": "abec62c3-4f4b-4191-90f7-575859f58cc9",
   "metadata": {},
   "outputs": [
    {
     "data": {
      "text/plain": [
       "FID                104\n",
       "OBJECTID           105\n",
       "Texto          Viveiro\n",
       "Poblacion      16211.0\n",
       "CodMun           27066\n",
       "Municipio      Viveiro\n",
       "CodProvin           27\n",
       "Provincia         Lugo\n",
       "X            -7.588768\n",
       "Y            43.625578\n",
       "Name: 104, dtype: object"
      ]
     },
     "execution_count": 88,
     "metadata": {},
     "output_type": "execute_result"
    }
   ],
   "source": [
    "viveiro=df.iloc[104]\n",
    "viveiro"
   ]
  },
  {
   "cell_type": "code",
   "execution_count": 82,
   "id": "fdb4b63c-6ae4-44ff-b92e-329a4d930968",
   "metadata": {},
   "outputs": [
    {
     "data": {
      "text/plain": [
       "[     FID  OBJECTID             Texto  Poblacion  CodMun  \\\n",
       " 104  104       105           Viveiro    16211.0   27066   \n",
       " 447  447       448    Lluanco/Luanco    10788.0   33025   \n",
       " 443  443       444            Candás    11000.0   33014   \n",
       " 444  444       445    Piedrasblancas    22832.0   33016   \n",
       " 442  442       443            Avilés    84202.0   33004   \n",
       " ..   ...       ...               ...        ...     ...   \n",
       " 6      6         7             Mogán    22638.0   35012   \n",
       " 758  758       759  Cruce de Sardina    24514.0   35022   \n",
       " 760  760       761        Vecindario    11583.0   35022   \n",
       " 759  759       760       El Doctoral    15012.0   35022   \n",
       " 757  757       758      San Fernando    18823.0   35019   \n",
       " \n",
       "                      Municipio  CodProvin   Provincia          X          Y  \n",
       " 104                    Viveiro         27        Lugo  -7.588768  43.625578  \n",
       " 447                      Gozón         33    Asturias  -5.792773  43.614030  \n",
       " 443                    Carreño         33    Asturias  -5.767181  43.590199  \n",
       " 444                 Castrillón         33    Asturias  -5.973899  43.559984  \n",
       " 442                     Avilés         33    Asturias  -5.924790  43.558577  \n",
       " ..                         ...        ...         ...        ...        ...  \n",
       " 6                        Mogán         35  Las Palmas -15.726229  27.880172  \n",
       " 758    Santa Lucía de Tirajana         35  Las Palmas -15.430664  27.856854  \n",
       " 760    Santa Lucía de Tirajana         35  Las Palmas -15.446853  27.841727  \n",
       " 759    Santa Lucía de Tirajana         35  Las Palmas -15.454505  27.832113  \n",
       " 757  San Bartolomé de Tirajana         35  Las Palmas -15.586616  27.770340  \n",
       " \n",
       " [852 rows x 10 columns]]"
      ]
     },
     "execution_count": 82,
     "metadata": {},
     "output_type": "execute_result"
    }
   ],
   "source": [
    "norte=[df.sort_values(by='Y',ascending=False)]\n",
    "norte\n",
    "viveiro=df.iloc[104]\n",
    "viveiro\n",
    "# Viveiro, Provincia: Lugo, Población: 16211.0"
   ]
  },
  {
   "cell_type": "markdown",
   "id": "4e2959df-11ed-4fc6-afad-58589bf9ed4d",
   "metadata": {},
   "source": [
    "Obtenga la media, mediana, desviación estándar, valor\n",
    "máximo y valor mínimo de la población de los municipios\n",
    "de la provincia de Granada."
   ]
  },
  {
   "cell_type": "code",
   "execution_count": 101,
   "id": "cae29045-62a1-491e-a4f4-195160a9fd03",
   "metadata": {},
   "outputs": [
    {
     "name": "stdout",
     "output_type": "stream",
     "text": [
      "Media:  45710.85680751174\n",
      "Mediana:  19865.0\n",
      "Desviación estándar:  140598.14339650268\n",
      "Máximo:  3273049.0\n",
      "Mínimo:  10037.0\n"
     ]
    }
   ],
   "source": [
    "for Granada in Provincia:\n",
    "    estadisticas=nucleos['Poblacion'].describe()\n",
    "    print(\"Media: \", estadisticas['mean'])\n",
    "    print(\"Mediana: \", estadisticas['50%'])\n",
    "    print(\"Desviación estándar: \", estadisticas['std'])\n",
    "    print(\"Máximo: \", estadisticas['max'])\n",
    "    print(\"Mínimo: \", estadisticas['min'])"
   ]
  },
  {
   "cell_type": "code",
   "execution_count": null,
   "id": "f7602f6c-0b04-4ec6-be9c-444b04b25609",
   "metadata": {},
   "outputs": [],
   "source": [
    "Realice un histograma con la población de los\n",
    "Municipios para cada una de las provincias."
   ]
  },
  {
   "cell_type": "code",
   "execution_count": 133,
   "id": "3e1dc1e3-a134-4758-8cc0-a4525226d90b",
   "metadata": {},
   "outputs": [
    {
     "data": {
      "image/png": "[encoded data removed]",
      "text/plain": [
       "<Figure size 640x480 with 1 Axes>"
      ]
     },
     "metadata": {},
     "output_type": "display_data"
    }
   ],
   "source": [
    "for Provincia in nucleos:\n",
    "    plt.hist(nucleos['Poblacion'], bins=100)"
   ]
  },
  {
   "cell_type": "code",
   "execution_count": null,
   "id": "311ae8d6-19c8-42eb-aee2-6283f88274ba",
   "metadata": {},
   "outputs": [],
   "source": [
    "Seleccione al azar cincuenta municipios diferentes de\n",
    "entre los diponibles en el archivo. Asegúrese de que no\n",
    "se repitan. ¿Luego calcule el promedio de la población y\n",
    "la desviación estándar de esto 50 municipios?."
   ]
  },
  {
   "cell_type": "code",
   "execution_count": 160,
   "id": "dc0e3417-5969-428a-8c89-9c5be224e4cc",
   "metadata": {},
   "outputs": [
    {
     "name": "stdout",
     "output_type": "stream",
     "text": [
      "Media:  45710.85680751174\n",
      "Desviación estándar:  140598.14339650268\n",
      "Media:  45710.85680751174\n",
      "Desviación estándar:  140598.14339650268\n",
      "Media:  45710.85680751174\n",
      "Desviación estándar:  140598.14339650268\n",
      "Media:  45710.85680751174\n",
      "Desviación estándar:  140598.14339650268\n",
      "Media:  45710.85680751174\n",
      "Desviación estándar:  140598.14339650268\n",
      "Media:  45710.85680751174\n",
      "Desviación estándar:  140598.14339650268\n",
      "Media:  45710.85680751174\n",
      "Desviación estándar:  140598.14339650268\n",
      "Media:  45710.85680751174\n",
      "Desviación estándar:  140598.14339650268\n",
      "Media:  45710.85680751174\n",
      "Desviación estándar:  140598.14339650268\n",
      "Media:  45710.85680751174\n",
      "Desviación estándar:  140598.14339650268\n"
     ]
    }
   ],
   "source": [
    "muestra=df['Municipio'].sample(n=50)\n",
    "for muestra in df:\n",
    "    datos=nucleos['Poblacion'].describe()\n",
    "    print(\"Media: \", datos['mean'])\n",
    "    print(\"Desviación estándar: \", datos['std'])"
   ]
  },
  {
   "cell_type": "code",
   "execution_count": null,
   "id": "49f863b2-6205-4ba6-b590-4b534d8a3f1a",
   "metadata": {},
   "outputs": [],
   "source": [
    "Determine los nombres de los Municipios más cercano y\n",
    "más lejano a Madrid. Para ello debe calcular la\n",
    "distancia en todos ellos y Madrid. No considere a Madrid\n",
    "en el análisis ya que la distancia sería cero."
   ]
  },
  {
   "cell_type": "code",
   "execution_count": 195,
   "id": "044f5fed-93ce-4822-a0e3-6dbbc5243a53",
   "metadata": {},
   "outputs": [
    {
     "data": {
      "text/plain": [
       "<bound method Series.min of 0     NaN\n",
       "1     NaN\n",
       "2     NaN\n",
       "3     NaN\n",
       "4     NaN\n",
       "       ..\n",
       "847   NaN\n",
       "848   NaN\n",
       "849   NaN\n",
       "850   NaN\n",
       "851   NaN\n",
       "Length: 852, dtype: float64>"
      ]
     },
     "execution_count": 195,
     "metadata": {},
     "output_type": "execute_result"
    }
   ],
   "source": [
    "madrid = 'Madrid'\n",
    "bmadrid = df[df['Municipio'] == madrid]\n",
    "bmadrid['X']\n",
    "for Municipio in nucleos:\n",
    "    distx=nucleos['X']-bmadrid['X']\n",
    "    disty=nucleos['Y']-bmadrid['Y']\n",
    "    dist=(distx**2)+(disty**2)\n",
    "dist.max\n",
    "dist.min"
   ]
  }
 ],
 "metadata": {
  "kernelspec": {
   "display_name": "Python 3 (ipykernel)",
   "language": "python",
   "name": "python3"
  },
  "language_info": {
   "codemirror_mode": {
    "name": "ipython",
    "version": 3
   },
   "file_extension": ".py",
   "mimetype": "text/x-python",
   "name": "python",
   "nbconvert_exporter": "python",
   "pygments_lexer": "ipython3",
   "version": "3.11.5"
  }
 },
 "nbformat": 4,
 "nbformat_minor": 5
}
